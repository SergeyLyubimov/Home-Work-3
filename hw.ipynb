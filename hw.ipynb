{
 "cells": [
  {
   "cell_type": "markdown",
   "id": "4f615a1a-6a0c-4dd0-98ce-32f24298546d",
   "metadata": {},
   "source": [
    "# Задание\n",
    "Написать код на Python в среде Jupyter Notebook для решения задачи.\n",
    "\n",
    "Необходимо написать программу, которая сформирует словарь данных на основании заданных критериев (ключ = ключ в исходной структуре, значение = True — если количество ниже 20 , False — остальные случаи). При разработке использовать dict comprehension."
   ]
  },
  {
   "cell_type": "code",
   "execution_count": 1,
   "id": "cb1630c1-eb79-47f4-9c92-2b7555c8858f",
   "metadata": {},
   "outputs": [],
   "source": [
    "def count_less_20(items):\n",
    "    return {k: v['count'] < 20 for k, v in items.items()}"
   ]
  },
  {
   "cell_type": "code",
   "execution_count": 2,
   "id": "3c5fb85a-b7a5-4683-8919-7a097d55ef1a",
   "metadata": {},
   "outputs": [],
   "source": [
    "items = {\n",
    " 'milk15':{'name': 'молоко 1.5%', 'count': 34, 'price': 89.9},\n",
    " 'cheese':{'name': 'сыр молочный 1 кг.', 'count': 12, 'price': 990.9},\n",
    " 'sausage':{'name': 'колбаса 1 кг.', 'count': 122, 'price': 1990.9}\n",
    "}"
   ]
  },
  {
   "cell_type": "code",
   "execution_count": 3,
   "id": "194d8250-f7e0-4614-9467-483ce81a46f0",
   "metadata": {},
   "outputs": [
    {
     "data": {
      "text/plain": [
       "{'milk15': False, 'cheese': True, 'sausage': False}"
      ]
     },
     "execution_count": 3,
     "metadata": {},
     "output_type": "execute_result"
    }
   ],
   "source": [
    "result = count_less_20(items)\n",
    "result"
   ]
  }
 ],
 "metadata": {
  "kernelspec": {
   "display_name": "Python 3 (ipykernel)",
   "language": "python",
   "name": "python3"
  },
  "language_info": {
   "codemirror_mode": {
    "name": "ipython",
    "version": 3
   },
   "file_extension": ".py",
   "mimetype": "text/x-python",
   "name": "python",
   "nbconvert_exporter": "python",
   "pygments_lexer": "ipython3",
   "version": "3.12.5"
  }
 },
 "nbformat": 4,
 "nbformat_minor": 5
}
